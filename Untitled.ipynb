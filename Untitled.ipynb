{
 "cells": [
  {
   "cell_type": "code",
   "execution_count": null,
   "metadata": {},
   "outputs": [],
   "source": [
    "import boto3\n",
    "\n",
    "client = boto3.client('dynamodb', endpoint_url=\"http://localhost:8000\")\n",
    "dynamodb = boto3.resource('dynamodb', endpoint_url=\"http://localhost:8000\")"
   ]
  },
  {
   "cell_type": "code",
   "execution_count": null,
   "metadata": {},
   "outputs": [],
   "source": [
    "client.list_tables()"
   ]
  },
  {
   "cell_type": "code",
   "execution_count": null,
   "metadata": {},
   "outputs": [],
   "source": [
    "for table_name in client.list_tables()['TableNames']:\n",
    "    client.delete_table(TableName=table_name)"
   ]
  },
  {
   "cell_type": "code",
   "execution_count": null,
   "metadata": {},
   "outputs": [],
   "source": [
    "table = dynamodb.Table('mlflow_run')\n",
    "table.scan()"
   ]
  },
  {
   "cell_type": "code",
   "execution_count": null,
   "metadata": {},
   "outputs": [],
   "source": [
    "from boto3.dynamodb.conditions import Key, And, Or\n",
    "from mlflow.entities import Experiment, Metric, Param, Run, RunData, RunInfo, ViewType\n",
    "\n",
    "view_type = None\n",
    "name = 'TXOMWSSUOQ'\n",
    "\n",
    "condition = None\n",
    "if view_type == ViewType.ACTIVE_ONLY:\n",
    "    condition = Key('lifecycle_stage').eq(RunInfo.ACTIVE_LIFECYCLE)\n",
    "elif view_type == ViewType.DELETED_ONLY:\n",
    "    condition = Key('lifecycle_stage').eq(RunInfo.DELETED_LIFECYCLE)\n",
    "if name:\n",
    "    condition = condition and And(condition, Key('name').eq(name)) or \\\n",
    "        Key('name').eq(name)\n",
    "            \n",
    "if condition:\n",
    "    print(table.query(\n",
    "        IndexName='LifeCycleStage',\n",
    "        KeyConditionExpression=condition,\n",
    "        ReturnConsumedCapacity='TOTAL',\n",
    "    ))\n",
    "#    print(table.scan(FilterExpression=condition))"
   ]
  },
  {
   "cell_type": "code",
   "execution_count": null,
   "metadata": {},
   "outputs": [],
   "source": [
    "condition=Key('name').eq('33WTZ8LFPE')\n",
    "table.scan()"
   ]
  },
  {
   "cell_type": "code",
   "execution_count": null,
   "metadata": {},
   "outputs": [],
   "source": [
    "!export"
   ]
  },
  {
   "cell_type": "code",
   "execution_count": null,
   "metadata": {},
   "outputs": [],
   "source": []
  },
  {
   "cell_type": "code",
   "execution_count": null,
   "metadata": {},
   "outputs": [],
   "source": []
  },
  {
   "cell_type": "code",
   "execution_count": 2,
   "metadata": {},
   "outputs": [
    {
     "data": {
      "text/plain": [
       "756720675"
      ]
     },
     "execution_count": 2,
     "metadata": {},
     "output_type": "execute_result"
    }
   ],
   "source": [
    "import os\n",
    "import mlflow\n",
    "from mlflow import log_metric, log_param, log_artifact\n",
    "\n",
    "mlflow.set_tracking_uri('dynamodb')\n",
    "\n",
    "#mlflow.create_experiment('test'\n",
    "mlflow.create_experiment('test2', 's3://aiml-mlflow-artifact-ap-southeast-2')\n",
    "#mlflow.set_experiment(experiment_name='test0')"
   ]
  },
  {
   "cell_type": "code",
   "execution_count": null,
   "metadata": {},
   "outputs": [],
   "source": [
    "mlflow.log_param(\"my\", \"param\")\n",
    "mlflow.log_metric(\"score\", 100)\n",
    "mlflow.end_run()\n",
    "\n",
    "# Log a parameter (key-value pair)\n",
    "log_param(\"param1\", 6)\n",
    "\n",
    "# Log a metric; metrics can be updated throughout the run\n",
    "log_metric(\"foo\", 1)\n",
    "log_metric(\"foo\", 2)\n",
    "log_metric(\"foo\", 3)\n",
    "\n",
    "# Log an artifact (output file)\n",
    "with open(\"output.txt\", \"w\") as f:\n",
    "    f.write(\"Hello world!\")\n",
    "log_artifact(\"output.txt\")"
   ]
  },
  {
   "cell_type": "code",
   "execution_count": null,
   "metadata": {},
   "outputs": [],
   "source": [
    "!ls mlruns/"
   ]
  },
  {
   "cell_type": "code",
   "execution_count": null,
   "metadata": {},
   "outputs": [],
   "source": [
    "!pwd"
   ]
  },
  {
   "cell_type": "code",
   "execution_count": null,
   "metadata": {},
   "outputs": [],
   "source": []
  }
 ],
 "metadata": {
  "kernelspec": {
   "display_name": "mlflow-dev-env",
   "language": "python",
   "name": "mlflow-dev-env"
  },
  "language_info": {
   "codemirror_mode": {
    "name": "ipython",
    "version": 3
   },
   "file_extension": ".py",
   "mimetype": "text/x-python",
   "name": "python",
   "nbconvert_exporter": "python",
   "pygments_lexer": "ipython3",
   "version": "3.7.0"
  }
 },
 "nbformat": 4,
 "nbformat_minor": 2
}
